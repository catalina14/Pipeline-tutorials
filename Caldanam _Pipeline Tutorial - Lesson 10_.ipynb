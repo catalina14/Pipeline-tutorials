{
 "cells": [
  {
   "cell_type": "code",
   "execution_count": 1,
   "metadata": {},
   "outputs": [],
   "source": [
    "from quantopian.pipeline import Pipeline\n",
    "from quantopian.research import run_pipeline\n",
    "from quantopian.pipeline.data.builtin import USEquityPricing\n",
    "from quantopian.pipeline.factors import SimpleMovingAverage, AverageDollarVolume"
   ]
  },
  {
   "cell_type": "markdown",
   "metadata": {},
   "source": [
    "## Custom Factors\n",
    "When we first looked at factors, we explored the set of built-in factors. Frequently, a desired computation isn't included as a built-in factor. One of the most powerful features of the Pipeline API is that it allows us to define our own custom factors. When a desired computation doesn't exist as a built-in, we define a custom factor.\n",
    "\n",
    "Conceptually, a custom factor is identical to a built-in factor. It accepts `inputs`, `window_length`, and `mask` as constructor arguments, and returns a `Factor` object each day.\n",
    "\n",
    "Let's take an example of a computation that doesn't exist as a built-in: standard deviation. To create a factor that computes the [standard deviation](https://en.wikipedia.org/wiki/Standard_deviation) over a trailing window, we can subclass `quantopian.pipeline.CustomFactor` and implement a compute method whose signature is:\n",
    "\n",
    "\n",
    "```\n",
    "def compute(self, today, asset_ids, out, *inputs):\n",
    "    ...\n",
    "```\n",
    "\n",
    "- `*inputs` are M x N [numpy arrays](http://docs.scipy.org/doc/numpy-1.10.1/reference/arrays.ndarray.html), where M is the `window_length` and N is the number of securities (usually around ~8000 unless a `mask` is provided). `*inputs` are trailing data windows. Note that there will be one M x N array for each `BoundColumn` provided in the factor's `inputs` list. The data type of each array will be the `dtype` of the corresponding `BoundColumn`.\n",
    "- `out` is an empty array of length N. `out` will be the output of our custom factor each day. The job of compute is to write output values into out.\n",
    "- `asset_ids` will be an integer [array](http://docs.scipy.org/doc/numpy-1.10.0/reference/generated/numpy.array.html) of length N containing security ids corresponding to the columns in our `*inputs` arrays.\n",
    "- `today` will be a [pandas Timestamp](http://pandas.pydata.org/pandas-docs/stable/timeseries.html#converting-to-timestamps) representing the day for which `compute` is being called.\n",
    "\n",
    "Of these, `*inputs` and `out` are most commonly used.\n",
    "\n",
    "An instance of `CustomFactor` that’s been added to a pipeline will have its compute method called every day. For example, let's define a custom factor that computes the standard deviation of the close price over the last 5 days. To start, let's add `CustomFactor` and `numpy` to our import statements."
   ]
  },
  {
   "cell_type": "code",
   "execution_count": 2,
   "metadata": {},
   "outputs": [],
   "source": [
    "from quantopian.pipeline import CustomFactor\n",
    "import numpy"
   ]
  },
  {
   "cell_type": "markdown",
   "metadata": {},
   "source": [
    "Next, let's define our custom factor to calculate the standard deviation over a trailing window using [numpy.nanstd](http://docs.scipy.org/doc/numpy-dev/reference/generated/numpy.nanstd.html):"
   ]
  },
  {
   "cell_type": "code",
   "execution_count": 3,
   "metadata": {},
   "outputs": [],
   "source": [
    "class StdDev(CustomFactor):\n",
    "    def compute(self, today, asset_ids, out, values):\n",
    "        # Calculates the column-wise standard deviation, ignoring NaNs\n",
    "        out[:] = numpy.nanstd(values, axis=0)"
   ]
  },
  {
   "cell_type": "markdown",
   "metadata": {},
   "source": [
    "Finally, let's instantiate our factor in `make_pipeline()`:"
   ]
  },
  {
   "cell_type": "code",
   "execution_count": 4,
   "metadata": {},
   "outputs": [],
   "source": [
    "def make_pipeline():\n",
    "    std_dev = StdDev(inputs=[USEquityPricing.close], window_length=5)\n",
    "\n",
    "    return Pipeline(\n",
    "        columns={\n",
    "            'std_dev': std_dev\n",
    "        }\n",
    "    )"
   ]
  },
  {
   "cell_type": "markdown",
   "metadata": {},
   "source": [
    "When this pipeline is run, `StdDev.compute()` will be called every day with data as follows:\n",
    "\n",
    "- `values`: An M x N [numpy array](http://docs.scipy.org/doc/numpy-1.10.1/reference/arrays.ndarray.html), where M is 5 (`window_length`), and N is ~8000 (the number of securities in our database on the day in question).\n",
    "- `out`: An empty array of length N (~8000). In this example, the job of `compute` is to populate `out` with an array storing of 5-day close price standard deviations."
   ]
  },
  {
   "cell_type": "code",
   "execution_count": 6,
   "metadata": {},
   "outputs": [
    {
     "data": {
      "application/vnd.jupyter.widget-view+json": {
       "model_id": "",
       "version_major": 2,
       "version_minor": 0
      },
      "text/plain": []
     },
     "metadata": {},
     "output_type": "display_data"
    },
    {
     "data": {
      "text/html": [
       "<b>Pipeline Execution Time:</b> 0.28 Seconds"
      ],
      "text/plain": [
       "<IPython.core.display.HTML object>"
      ]
     },
     "metadata": {},
     "output_type": "display_data"
    },
    {
     "data": {
      "text/html": [
       "<div>\n",
       "<table border=\"1\" class=\"dataframe\">\n",
       "  <thead>\n",
       "    <tr style=\"text-align: right;\">\n",
       "      <th></th>\n",
       "      <th></th>\n",
       "      <th>std_dev</th>\n",
       "    </tr>\n",
       "  </thead>\n",
       "  <tbody>\n",
       "    <tr>\n",
       "      <th rowspan=\"61\" valign=\"top\">2019-05-06 00:00:00+00:00</th>\n",
       "      <th>Equity(2 [HWM])</th>\n",
       "      <td>0.569634</td>\n",
       "    </tr>\n",
       "    <tr>\n",
       "      <th>Equity(21 [AAME])</th>\n",
       "      <td>0.064686</td>\n",
       "    </tr>\n",
       "    <tr>\n",
       "      <th>Equity(24 [AAPL])</th>\n",
       "      <td>4.158370</td>\n",
       "    </tr>\n",
       "    <tr>\n",
       "      <th>Equity(25 [HWM_PR])</th>\n",
       "      <td>0.546008</td>\n",
       "    </tr>\n",
       "    <tr>\n",
       "      <th>Equity(41 [ARCB])</th>\n",
       "      <td>0.282800</td>\n",
       "    </tr>\n",
       "    <tr>\n",
       "      <th>Equity(52 [ABM])</th>\n",
       "      <td>0.592182</td>\n",
       "    </tr>\n",
       "    <tr>\n",
       "      <th>Equity(53 [ABMD])</th>\n",
       "      <td>4.595548</td>\n",
       "    </tr>\n",
       "    <tr>\n",
       "      <th>Equity(62 [ABT])</th>\n",
       "      <td>0.420314</td>\n",
       "    </tr>\n",
       "    <tr>\n",
       "      <th>Equity(64 [GOLD])</th>\n",
       "      <td>0.071944</td>\n",
       "    </tr>\n",
       "    <tr>\n",
       "      <th>Equity(66 [AB])</th>\n",
       "      <td>0.189752</td>\n",
       "    </tr>\n",
       "    <tr>\n",
       "      <th>Equity(67 [ADSK])</th>\n",
       "      <td>1.847535</td>\n",
       "    </tr>\n",
       "    <tr>\n",
       "      <th>Equity(70 [VBF])</th>\n",
       "      <td>0.067409</td>\n",
       "    </tr>\n",
       "    <tr>\n",
       "      <th>Equity(76 [TAP])</th>\n",
       "      <td>1.966534</td>\n",
       "    </tr>\n",
       "    <tr>\n",
       "      <th>Equity(100 [IEP])</th>\n",
       "      <td>0.482634</td>\n",
       "    </tr>\n",
       "    <tr>\n",
       "      <th>Equity(106 [ACU])</th>\n",
       "      <td>0.729544</td>\n",
       "    </tr>\n",
       "    <tr>\n",
       "      <th>Equity(110 [RAMP])</th>\n",
       "      <td>0.495072</td>\n",
       "    </tr>\n",
       "    <tr>\n",
       "      <th>Equity(112 [ACY])</th>\n",
       "      <td>0.176989</td>\n",
       "    </tr>\n",
       "    <tr>\n",
       "      <th>Equity(114 [ADBE])</th>\n",
       "      <td>3.237125</td>\n",
       "    </tr>\n",
       "    <tr>\n",
       "      <th>Equity(117 [AEY])</th>\n",
       "      <td>0.016000</td>\n",
       "    </tr>\n",
       "    <tr>\n",
       "      <th>Equity(122 [ADI])</th>\n",
       "      <td>1.251904</td>\n",
       "    </tr>\n",
       "    <tr>\n",
       "      <th>Equity(128 [ADM])</th>\n",
       "      <td>0.457410</td>\n",
       "    </tr>\n",
       "    <tr>\n",
       "      <th>Equity(149 [ADX])</th>\n",
       "      <td>0.050754</td>\n",
       "    </tr>\n",
       "    <tr>\n",
       "      <th>Equity(153 [AE])</th>\n",
       "      <td>0.613893</td>\n",
       "    </tr>\n",
       "    <tr>\n",
       "      <th>Equity(154 [AEM])</th>\n",
       "      <td>0.393375</td>\n",
       "    </tr>\n",
       "    <tr>\n",
       "      <th>Equity(157 [AEG])</th>\n",
       "      <td>0.027641</td>\n",
       "    </tr>\n",
       "    <tr>\n",
       "      <th>Equity(161 [AEP])</th>\n",
       "      <td>0.532939</td>\n",
       "    </tr>\n",
       "    <tr>\n",
       "      <th>Equity(166 [AES])</th>\n",
       "      <td>0.087825</td>\n",
       "    </tr>\n",
       "    <tr>\n",
       "      <th>Equity(185 [AFL])</th>\n",
       "      <td>0.267462</td>\n",
       "    </tr>\n",
       "    <tr>\n",
       "      <th>Equity(192 [ATAX])</th>\n",
       "      <td>0.064684</td>\n",
       "    </tr>\n",
       "    <tr>\n",
       "      <th>Equity(197 [AGCO])</th>\n",
       "      <td>2.118522</td>\n",
       "    </tr>\n",
       "    <tr>\n",
       "      <th>...</th>\n",
       "      <td>...</td>\n",
       "    </tr>\n",
       "    <tr>\n",
       "      <th>Equity(53097 [GNLN])</th>\n",
       "      <td>1.585612</td>\n",
       "    </tr>\n",
       "    <tr>\n",
       "      <th>Equity(53098 [SHLL])</th>\n",
       "      <td>0.000000</td>\n",
       "    </tr>\n",
       "    <tr>\n",
       "      <th>Equity(53099 [RYLD])</th>\n",
       "      <td>0.063364</td>\n",
       "    </tr>\n",
       "    <tr>\n",
       "      <th>Equity(53100 [SHLL_WS])</th>\n",
       "      <td>0.000000</td>\n",
       "    </tr>\n",
       "    <tr>\n",
       "      <th>Equity(53101 [MREO])</th>\n",
       "      <td>0.316158</td>\n",
       "    </tr>\n",
       "    <tr>\n",
       "      <th>Equity(53102 [SOHO_N])</th>\n",
       "      <td>0.055130</td>\n",
       "    </tr>\n",
       "    <tr>\n",
       "      <th>Equity(53103 [USI])</th>\n",
       "      <td>0.000000</td>\n",
       "    </tr>\n",
       "    <tr>\n",
       "      <th>Equity(53104 [ALTG_WS])</th>\n",
       "      <td>0.015000</td>\n",
       "    </tr>\n",
       "    <tr>\n",
       "      <th>Equity(53105 [SEIX])</th>\n",
       "      <td>0.010000</td>\n",
       "    </tr>\n",
       "    <tr>\n",
       "      <th>Equity(53106 [ALTG])</th>\n",
       "      <td>0.000000</td>\n",
       "    </tr>\n",
       "    <tr>\n",
       "      <th>Equity(53107 [ACTT_U])</th>\n",
       "      <td>0.005044</td>\n",
       "    </tr>\n",
       "    <tr>\n",
       "      <th>Equity(53108 [ETP_PRE])</th>\n",
       "      <td>0.024875</td>\n",
       "    </tr>\n",
       "    <tr>\n",
       "      <th>Equity(53109 [WTRU])</th>\n",
       "      <td>0.349544</td>\n",
       "    </tr>\n",
       "    <tr>\n",
       "      <th>Equity(53112 [WAFU])</th>\n",
       "      <td>0.014142</td>\n",
       "    </tr>\n",
       "    <tr>\n",
       "      <th>Equity(53113 [TPLC])</th>\n",
       "      <td>0.152500</td>\n",
       "    </tr>\n",
       "    <tr>\n",
       "      <th>Equity(53114 [TPHD])</th>\n",
       "      <td>0.139500</td>\n",
       "    </tr>\n",
       "    <tr>\n",
       "      <th>Equity(53115 [SY])</th>\n",
       "      <td>0.000000</td>\n",
       "    </tr>\n",
       "    <tr>\n",
       "      <th>Equity(53116 [BYND])</th>\n",
       "      <td>0.000000</td>\n",
       "    </tr>\n",
       "    <tr>\n",
       "      <th>Equity(53117 [TRVI])</th>\n",
       "      <td>NaN</td>\n",
       "    </tr>\n",
       "    <tr>\n",
       "      <th>Equity(53118 [TMDX])</th>\n",
       "      <td>0.000000</td>\n",
       "    </tr>\n",
       "    <tr>\n",
       "      <th>Equity(53119 [KEY_PRK])</th>\n",
       "      <td>NaN</td>\n",
       "    </tr>\n",
       "    <tr>\n",
       "      <th>Equity(53120 [YJ])</th>\n",
       "      <td>NaN</td>\n",
       "    </tr>\n",
       "    <tr>\n",
       "      <th>Equity(53121 [BUL])</th>\n",
       "      <td>NaN</td>\n",
       "    </tr>\n",
       "    <tr>\n",
       "      <th>Equity(53122 [RRBI])</th>\n",
       "      <td>NaN</td>\n",
       "    </tr>\n",
       "    <tr>\n",
       "      <th>Equity(53123 [SCPL])</th>\n",
       "      <td>NaN</td>\n",
       "    </tr>\n",
       "    <tr>\n",
       "      <th>Equity(53124 [TRNE_WS])</th>\n",
       "      <td>NaN</td>\n",
       "    </tr>\n",
       "    <tr>\n",
       "      <th>Equity(53125 [TRNE])</th>\n",
       "      <td>NaN</td>\n",
       "    </tr>\n",
       "    <tr>\n",
       "      <th>Equity(53126 [PTIN])</th>\n",
       "      <td>NaN</td>\n",
       "    </tr>\n",
       "    <tr>\n",
       "      <th>Equity(53127 [ATIF])</th>\n",
       "      <td>NaN</td>\n",
       "    </tr>\n",
       "    <tr>\n",
       "      <th>Equity(53128 [ECOW])</th>\n",
       "      <td>NaN</td>\n",
       "    </tr>\n",
       "  </tbody>\n",
       "</table>\n",
       "<p>8733 rows × 1 columns</p>\n",
       "</div>"
      ],
      "text/plain": [
       "                                                    std_dev\n",
       "2019-05-06 00:00:00+00:00 Equity(2 [HWM])          0.569634\n",
       "                          Equity(21 [AAME])        0.064686\n",
       "                          Equity(24 [AAPL])        4.158370\n",
       "                          Equity(25 [HWM_PR])      0.546008\n",
       "                          Equity(41 [ARCB])        0.282800\n",
       "                          Equity(52 [ABM])         0.592182\n",
       "                          Equity(53 [ABMD])        4.595548\n",
       "                          Equity(62 [ABT])         0.420314\n",
       "                          Equity(64 [GOLD])        0.071944\n",
       "                          Equity(66 [AB])          0.189752\n",
       "                          Equity(67 [ADSK])        1.847535\n",
       "                          Equity(70 [VBF])         0.067409\n",
       "                          Equity(76 [TAP])         1.966534\n",
       "                          Equity(100 [IEP])        0.482634\n",
       "                          Equity(106 [ACU])        0.729544\n",
       "                          Equity(110 [RAMP])       0.495072\n",
       "                          Equity(112 [ACY])        0.176989\n",
       "                          Equity(114 [ADBE])       3.237125\n",
       "                          Equity(117 [AEY])        0.016000\n",
       "                          Equity(122 [ADI])        1.251904\n",
       "                          Equity(128 [ADM])        0.457410\n",
       "                          Equity(149 [ADX])        0.050754\n",
       "                          Equity(153 [AE])         0.613893\n",
       "                          Equity(154 [AEM])        0.393375\n",
       "                          Equity(157 [AEG])        0.027641\n",
       "                          Equity(161 [AEP])        0.532939\n",
       "                          Equity(166 [AES])        0.087825\n",
       "                          Equity(185 [AFL])        0.267462\n",
       "                          Equity(192 [ATAX])       0.064684\n",
       "                          Equity(197 [AGCO])       2.118522\n",
       "...                                                     ...\n",
       "                          Equity(53097 [GNLN])     1.585612\n",
       "                          Equity(53098 [SHLL])     0.000000\n",
       "                          Equity(53099 [RYLD])     0.063364\n",
       "                          Equity(53100 [SHLL_WS])  0.000000\n",
       "                          Equity(53101 [MREO])     0.316158\n",
       "                          Equity(53102 [SOHO_N])   0.055130\n",
       "                          Equity(53103 [USI])      0.000000\n",
       "                          Equity(53104 [ALTG_WS])  0.015000\n",
       "                          Equity(53105 [SEIX])     0.010000\n",
       "                          Equity(53106 [ALTG])     0.000000\n",
       "                          Equity(53107 [ACTT_U])   0.005044\n",
       "                          Equity(53108 [ETP_PRE])  0.024875\n",
       "                          Equity(53109 [WTRU])     0.349544\n",
       "                          Equity(53112 [WAFU])     0.014142\n",
       "                          Equity(53113 [TPLC])     0.152500\n",
       "                          Equity(53114 [TPHD])     0.139500\n",
       "                          Equity(53115 [SY])       0.000000\n",
       "                          Equity(53116 [BYND])     0.000000\n",
       "                          Equity(53117 [TRVI])          NaN\n",
       "                          Equity(53118 [TMDX])     0.000000\n",
       "                          Equity(53119 [KEY_PRK])       NaN\n",
       "                          Equity(53120 [YJ])            NaN\n",
       "                          Equity(53121 [BUL])           NaN\n",
       "                          Equity(53122 [RRBI])          NaN\n",
       "                          Equity(53123 [SCPL])          NaN\n",
       "                          Equity(53124 [TRNE_WS])       NaN\n",
       "                          Equity(53125 [TRNE])          NaN\n",
       "                          Equity(53126 [PTIN])          NaN\n",
       "                          Equity(53127 [ATIF])          NaN\n",
       "                          Equity(53128 [ECOW])          NaN\n",
       "\n",
       "[8733 rows x 1 columns]"
      ]
     },
     "execution_count": 6,
     "metadata": {},
     "output_type": "execute_result"
    }
   ],
   "source": [
    "result = run_pipeline(make_pipeline(), '2019-05-05', '2019-05-05')\n",
    "result"
   ]
  },
  {
   "cell_type": "markdown",
   "metadata": {},
   "source": [
    "### Default Inputs\n",
    "When writing a custom factor, we can set default `inputs` and `window_length` in our `CustomFactor` subclass. For example, let's define the `TenDayMeanDifference` custom factor to compute the mean difference between two data columns over a trailing window using [numpy.nanmean](http://docs.scipy.org/doc/numpy-dev/reference/generated/numpy.nanmean.html). Let's set the default `inputs` to `[USEquityPricing.close, USEquityPricing.open]` and the default `window_length` to 10:"
   ]
  },
  {
   "cell_type": "code",
   "execution_count": 7,
   "metadata": {},
   "outputs": [],
   "source": [
    "class TenDayMeanDifference(CustomFactor):\n",
    "    # Default inputs.\n",
    "    inputs = [USEquityPricing.close, USEquityPricing.open]\n",
    "    window_length = 10\n",
    "    def compute(self, today, asset_ids, out, close, open):\n",
    "        # Calculates the column-wise mean difference, ignoring NaNs\n",
    "        out[:] = numpy.nanmean(close - open, axis=0)"
   ]
  },
  {
   "cell_type": "markdown",
   "metadata": {},
   "source": [
    "<i>Remember in this case that `close` and `open` are each 10 x ~8000 2D [numpy arrays.](http://docs.scipy.org/doc/numpy-1.10.1/reference/arrays.ndarray.html)</i>\n",
    "\n",
    "If we call `TenDayMeanDifference` without providing any arguments, it will use the defaults."
   ]
  },
  {
   "cell_type": "code",
   "execution_count": 8,
   "metadata": {},
   "outputs": [],
   "source": [
    "# Computes the 10-day mean difference between the daily open and close prices.\n",
    "close_open_diff = TenDayMeanDifference()"
   ]
  },
  {
   "cell_type": "markdown",
   "metadata": {},
   "source": [
    "The defaults can be manually overridden by specifying arguments in the constructor call."
   ]
  },
  {
   "cell_type": "code",
   "execution_count": 9,
   "metadata": {},
   "outputs": [],
   "source": [
    "# Computes the 10-day mean difference between the daily high and low prices.\n",
    "high_low_diff = TenDayMeanDifference(inputs=[USEquityPricing.high, USEquityPricing.low])"
   ]
  },
  {
   "cell_type": "markdown",
   "metadata": {},
   "source": [
    "### Further Example\n",
    "Let's take another example where we build a [momentum](http://www.investopedia.com/terms/m/momentum.asp) custom factor and use it to create a filter. We will then use that filter as a `screen` for our pipeline.\n",
    "\n",
    "Let's start by defining a `Momentum` factor to be the division of the most recent close price by the close price from `n` days ago where `n` is the `window_length`."
   ]
  },
  {
   "cell_type": "code",
   "execution_count": 10,
   "metadata": {},
   "outputs": [],
   "source": [
    "class Momentum(CustomFactor):\n",
    "    # Default inputs\n",
    "    inputs = [USEquityPricing.close]\n",
    "\n",
    "    # Compute momentum\n",
    "    def compute(self, today, assets, out, close):\n",
    "        out[:] = close[-1] / close[0]"
   ]
  },
  {
   "cell_type": "markdown",
   "metadata": {},
   "source": [
    "Now, let's instantiate our `Momentum` factor (twice) to create a 10-day momentum factor and a 20-day momentum factor. Let's also create a `positive_momentum` filter returning `True` for securities with both a positive 10-day momentum and a positive 20-day momentum."
   ]
  },
  {
   "cell_type": "code",
   "execution_count": 11,
   "metadata": {},
   "outputs": [],
   "source": [
    "ten_day_momentum = Momentum(window_length=10)\n",
    "twenty_day_momentum = Momentum(window_length=20)\n",
    "\n",
    "positive_momentum = ((ten_day_momentum > 1) & (twenty_day_momentum > 1))"
   ]
  },
  {
   "cell_type": "markdown",
   "metadata": {},
   "source": [
    "Next, let's add our momentum factors and our `positive_momentum` filter to `make_pipeline`. Let's also pass `positive_momentum` as a `screen` to our pipeline."
   ]
  },
  {
   "cell_type": "code",
   "execution_count": 12,
   "metadata": {},
   "outputs": [],
   "source": [
    "def make_pipeline():\n",
    "\n",
    "    ten_day_momentum = Momentum(window_length=10)\n",
    "    twenty_day_momentum = Momentum(window_length=20)\n",
    "\n",
    "    positive_momentum = ((ten_day_momentum > 1) & (twenty_day_momentum > 1))\n",
    "\n",
    "    std_dev = StdDev(inputs=[USEquityPricing.close], window_length=5)\n",
    "\n",
    "    return Pipeline(\n",
    "        columns={\n",
    "            'std_dev': std_dev,\n",
    "            'ten_day_momentum': ten_day_momentum,\n",
    "            'twenty_day_momentum': twenty_day_momentum\n",
    "        },\n",
    "        screen=positive_momentum\n",
    "    )"
   ]
  },
  {
   "cell_type": "markdown",
   "metadata": {},
   "source": [
    "Running this pipeline outputs the standard deviation and each of our momentum computations for securities with positive 10-day and 20-day momentum."
   ]
  },
  {
   "cell_type": "code",
   "execution_count": null,
   "metadata": {},
   "outputs": [
    {
     "data": {
      "application/vnd.jupyter.widget-view+json": {
       "model_id": "d2f4a58fe01a431cac12a88fdd1b7ecb",
       "version_major": 2,
       "version_minor": 0
      },
      "text/plain": []
     },
     "metadata": {},
     "output_type": "display_data"
    }
   ],
   "source": [
    "result = run_pipeline(make_pipeline(), '2019-05-05', '2019-05-05')\n",
    "result"
   ]
  },
  {
   "cell_type": "markdown",
   "metadata": {},
   "source": [
    "Custom factors allow us to define custom computations in a pipeline. They are frequently the best way to perform computations on [partner datasets](https://www.quantopian.com/data) or on multiple data columns. The full documentation for CustomFactors is available [here](https://www.quantopian.com/help#custom-factors).\n",
    "\n",
    "In the next lesson, we'll use everything we've learned so far to create a pipeline for an algorithm."
   ]
  }
 ],
 "metadata": {
  "kernelspec": {
   "display_name": "Python 3.5",
   "language": "python",
   "name": "py35"
  },
  "language_info": {
   "codemirror_mode": {
    "name": "ipython",
    "version": 3
   },
   "file_extension": ".py",
   "mimetype": "text/x-python",
   "name": "python",
   "nbconvert_exporter": "python",
   "pygments_lexer": "ipython3",
   "version": "3.5.9"
  }
 },
 "nbformat": 4,
 "nbformat_minor": 1
}